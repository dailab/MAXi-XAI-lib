{
 "cells": [
  {
   "cell_type": "markdown",
   "metadata": {},
   "source": [
    "# ```l1```, ```l2``` & (CEM)```kappa``` Influence on the Explanation Generation"
   ]
  },
  {
   "cell_type": "markdown",
   "metadata": {},
   "source": [
    "For the provided optimizers, it might is essential to chose the right combination of hyperparameters - namely ```l1```, ```l2``` and ```kappa```. As you will see in this tutorial, the configuration of the latters heavily influences the result that is generated.\n"
   ]
  },
  {
   "cell_type": "markdown",
   "metadata": {},
   "source": [
    "## Experiment Setup\n",
    "\n",
    "```python\n",
    "loss_class = maxi.loss.TF_CEMLoss\n",
    "optimizer_class = maxi.optimizer.AdaExpGradOptimizer\n",
    "gradient_class = maxi.gradient.TF_Gradient\n",
    "\n",
    "loss_kwargs = {\"mode\": \"PP\", \"K\": 2}    # default kappa\n",
    "optimizer_kwargs = {\n",
    "    \"l1\": 0.05,                 # default l1\n",
    "    \"l2\": 0.005,                # default l2\n",
    "    \"channels_first\": False,\n",
    "}\n",
    "gradient_kwargs = {\"mu\": None}\n",
    "```"
   ]
  },
  {
   "cell_type": "markdown",
   "metadata": {},
   "source": [
    "## kappa Influence"
   ]
  },
  {
   "cell_type": "markdown",
   "metadata": {},
   "source": [
    "### Kappa = 2\n",
    "![Kappa_2](../../docs/img/tutorials/l1_l2_kappa/kappa_2.png)\n",
    "### Kappa = 10\n",
    "![Kappa_10](../../docs/img/tutorials/l1_l2_kappa/kappa_10.png)\n",
    "### Kappa = 20\n",
    "![Kappa_20](../../docs/img/tutorials/l1_l2_kappa/kappa_20.png)\n",
    "\n"
   ]
  },
  {
   "cell_type": "markdown",
   "metadata": {},
   "source": [
    "## l1 Influence"
   ]
  },
  {
   "cell_type": "markdown",
   "metadata": {},
   "source": [
    "### l1 = 0.000005\n",
    "![Kappa_2](../../docs/img/tutorials/l1_l2_kappa/l1_0_000005.png)\n",
    "### l1 = 0.005\n",
    "![Kappa_10](../../docs/img/tutorials/l1_l2_kappa/l1_0_005.png)\n",
    "### l1 = 5.0\n",
    "![Kappa_20](../../docs/img/tutorials/l1_l2_kappa/l1_5_0.png)"
   ]
  },
  {
   "cell_type": "markdown",
   "metadata": {},
   "source": [
    "## l2 Influence"
   ]
  },
  {
   "cell_type": "markdown",
   "metadata": {},
   "source": [
    "### l2 = 0.0000005\n",
    "![Kappa_2](../../docs/img/tutorials/l1_l2_kappa/l2_0_0000005.png)\n",
    "### l1 = 0.005\n",
    "![Kappa_10](../../docs/img/tutorials/l1_l2_kappa/l2_0_005.png)\n",
    "### l1 = 5.0\n",
    "![Kappa_20](../../docs/img/tutorials/l1_l2_kappa/l2_5_0.png)"
   ]
  }
 ],
 "metadata": {
  "interpreter": {
   "hash": "65a2827122f59fa3af38b0a26c4bbb172a51e6b0f3177182a7aacb28e18e0590"
  },
  "kernelspec": {
   "display_name": "Python 3.8.10 ('maxi-ZjBXp4XP-py3.8')",
   "language": "python",
   "name": "python3"
  },
  "language_info": {
   "codemirror_mode": {
    "name": "ipython",
    "version": 3
   },
   "file_extension": ".py",
   "mimetype": "text/x-python",
   "name": "python",
   "nbconvert_exporter": "python",
   "pygments_lexer": "ipython3",
   "version": "3.8.10"
  },
  "orig_nbformat": 4
 },
 "nbformat": 4,
 "nbformat_minor": 2
}
