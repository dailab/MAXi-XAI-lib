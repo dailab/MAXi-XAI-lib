{
 "cells": [
  {
   "attachments": {},
   "cell_type": "markdown",
   "metadata": {},
   "source": [
    "# Minimal Effort Example with CEM on MNIST"
   ]
  },
  {
   "attachments": {},
   "cell_type": "markdown",
   "metadata": {},
   "source": [
    "Suppose you want to generate the pertinent positive explanation (_CEM_) of a handwritten digit from the _MNIST dataset_. First and foremost, you have to make sure of the following things:\n",
    "\n",
    "- You have the dataset and an inference model accessible.\n",
    "- As we will utilize the _Contrastive Explanation Method_, it is necessary that the prediction result is of a classification problem format, e.g. `[0.1, 5.23, 2.34, 12.01]` - where each entry indicates the score of likelihood of the class being present in the image.\n",
    "\n",
    "\n",
    "<details open>\n",
    "<summary>Our model prediction for the image in <b>step three</b> below:</summary>\n",
    "\n",
    "```\n",
    "[ 34.32501    -12.048843     1.2531171   -8.700068    -8.913591\n",
    "  -5.9139457    0.26711565  -2.6489842   -0.33851495   2.3089695 ]\n",
    "```\n",
    "\n",
    "</details>"
   ]
  },
  {
   "attachments": {},
   "cell_type": "markdown",
   "metadata": {},
   "source": [
    "Since the provided inference model ouputs the right format, we don't need to include the _Inference Wrapper_. \n",
    "\n",
    "For the CEM we have two kind of explanations to chose from:\n",
    "- **Pertinent Positive** (PP): A pertinent positive is a factor whose presence is minimally sufficient in justifying the final classification. \n",
    "- **Pertinent Negative** (PN): A pertinent negative is a factor whose absence is necessary in asserting the final classification.\n",
    "\n",
    "For the first part, we will generate the **PP** with our ```ExplanationGenerator``` using CEM. \n",
    "Now we can start writing the code:"
   ]
  },
  {
   "attachments": {},
   "cell_type": "markdown",
   "metadata": {},
   "source": [
    "1. **Import the required libraries**:"
   ]
  },
  {
   "cell_type": "code",
   "execution_count": 1,
   "metadata": {},
   "outputs": [
    {
     "name": "stderr",
     "output_type": "stream",
     "text": [
      "2023-05-31 18:02:44.781075: I tensorflow/core/util/port.cc:110] oneDNN custom operations are on. You may see slightly different numerical results due to floating-point round-off errors from different computation orders. To turn them off, set the environment variable `TF_ENABLE_ONEDNN_OPTS=0`.\n",
      "2023-05-31 18:02:44.816585: I tensorflow/core/platform/cpu_feature_guard.cc:182] This TensorFlow binary is optimized to use available CPU instructions in performance-critical operations.\n",
      "To enable the following instructions: AVX2 AVX512F AVX512_VNNI FMA, in other operations, rebuild TensorFlow with the appropriate compiler flags.\n",
      "2023-05-31 18:02:45.334872: W tensorflow/compiler/tf2tensorrt/utils/py_utils.cc:38] TF-TRT Warning: Could not find TensorRT\n"
     ]
    }
   ],
   "source": [
    "import sys\n",
    "import numpy as np\n",
    "import matplotlib.pyplot as plt\n",
    "\n",
    "import maxi\n",
    "\n",
    "sys.path.append(\"../mnist/src\")\n",
    "from official_mnist_tf.train_mnist_model import load_mnist, init_model"
   ]
  },
  {
   "attachments": {},
   "cell_type": "markdown",
   "metadata": {},
   "source": [
    "2. **Load the mnist data, model and autoencoder**:"
   ]
  },
  {
   "cell_type": "code",
   "execution_count": null,
   "metadata": {},
   "outputs": [],
   "source": [
    "x_train, y_train, x_test, y_test = load_mnist()\n",
    "model = init_model()\n",
    "model.load_weights(\"../mnist/models/tf/tf\")"
   ]
  },
  {
   "attachments": {},
   "cell_type": "markdown",
   "metadata": {},
   "source": [
    "3. **Chose an image to be explained**:"
   ]
  },
  {
   "cell_type": "code",
   "execution_count": 44,
   "metadata": {},
   "outputs": [],
   "source": [
    "inputs = x_train[5].reshape(1, 28, 28)"
   ]
  },
  {
   "cell_type": "code",
   "execution_count": 45,
   "metadata": {},
   "outputs": [
    {
     "data": {
      "text/plain": [
       "<matplotlib.image.AxesImage at 0x7f768851f760>"
      ]
     },
     "execution_count": 45,
     "metadata": {},
     "output_type": "execute_result"
    },
    {
     "data": {
      "image/png": "[encoded data removed]",
      "text/plain": [
       "<Figure size 432x288 with 1 Axes>"
      ]
     },
     "metadata": {
      "needs_background": "light"
     },
     "output_type": "display_data"
    }
   ],
   "source": [
    "# this is how the image looks like\n",
    "plt.imshow(inputs.squeeze(axis=0), cmap=\"gray\", vmin=-0.0, vmax=1.0)"
   ]
  },
  {
   "attachments": {},
   "cell_type": "markdown",
   "metadata": {},
   "source": [
    "4. **Chose your desired component classes for the optimization (loss, optimizer and gradient). Then, specify the configuration of the components**:"
   ]
  },
  {
   "cell_type": "code",
   "execution_count": 36,
   "metadata": {},
   "outputs": [],
   "source": [
    "loss_class = maxi.loss.TF_CEMLoss\n",
    "optimizer_class = maxi.optimizer.AdaExpGradOptimizer\n",
    "gradient_class = maxi.gradient.TF_Gradient\n",
    "\n",
    "loss_kwargs = {\"mode\": \"PP\", \"gamma\": 0.0, \"K\": 2}\n",
    "optimizer_kwargs = {\"l1\": 0.05, \"l2\": 0.005, \"channels_first\": False}\n",
    "gradient_kwargs = {}"
   ]
  },
  {
   "attachments": {},
   "cell_type": "markdown",
   "metadata": {},
   "source": [
    "5. **Instantiate the `ExplanationGenerator` with our custom configuration**:"
   ]
  },
  {
   "cell_type": "code",
   "execution_count": 23,
   "metadata": {},
   "outputs": [],
   "source": [
    "cem = maxi.ExplanationGenerator(\n",
    "    loss=loss_class,\n",
    "    optimizer=optimizer_class,\n",
    "    gradient=gradient_class,\n",
    "    loss_kwargs=loss_kwargs,\n",
    "    optimizer_kwargs=optimizer_kwargs,\n",
    "    gradient_kwargs=gradient_kwargs,\n",
    "    num_iter=1000, # number of optimization iterations\n",
    "    save_freq=250,  # at which iterations the result should be saved\n",
    "    verbose=False,   # print optimization metrics\n",
    ")"
   ]
  },
  {
   "attachments": {},
   "cell_type": "markdown",
   "metadata": {},
   "source": [
    "Note: The `save_freq` argument determines the frequency of which the intermediate results are saved into the output dictionary. With the settings above, the CEM explanation of every \\_500_th iteration is saved. `save_freq` equals `np.inf` per default. Only the optimization result of the last iteration is saved in that case."
   ]
  },
  {
   "attachments": {},
   "cell_type": "markdown",
   "metadata": {},
   "source": [
    "6. **Start the explanation procedure and retrieve the results**:"
   ]
  },
  {
   "cell_type": "code",
   "execution_count": 24,
   "metadata": {},
   "outputs": [],
   "source": [
    "results, _ = cem.run(image=inputs, inference_call=model)"
   ]
  },
  {
   "attachments": {},
   "cell_type": "markdown",
   "metadata": {},
   "source": [
    "Note: The first return value is a OrderedDictionary that contains the savepoints keyed by the number of the respective iteration. The second return value would be a dictionary containing the images' meta data, which can be optionally parsed to the `maxi.ExplanationGenerator.run()` method. This is epescially useful when using the `maxi.AsyncExplanationWrapper` as it makes it simpler to distinguish between the different explanation results given the meta data."
   ]
  },
  {
   "attachments": {},
   "cell_type": "markdown",
   "metadata": {},
   "source": [
    "7. **Display the results (savepoints)**:\n"
   ]
  },
  {
   "cell_type": "code",
   "execution_count": 25,
   "metadata": {},
   "outputs": [
    {
     "data": {
      "image/png": "[encoded data removed]",
      "text/plain": [
       "<Figure size 432x288 with 5 Axes>"
      ]
     },
     "metadata": {
      "needs_background": "light"
     },
     "output_type": "display_data"
    }
   ],
   "source": [
    "f, axarr = plt.subplots(1, len(results))\n",
    "f.tight_layout()\n",
    "for i, (iter_, result) in enumerate(results.items()):\n",
    "    axarr[i].title.set_text(\"Iteration: \" + iter_)\n",
    "    axarr[i].imshow(\n",
    "        result.squeeze(axis=0),\n",
    "        cmap=\"gray\",\n",
    "        vmin=0.0,\n",
    "        vmax=1.0,\n",
    "    )"
   ]
  },
  {
   "attachments": {},
   "cell_type": "markdown",
   "metadata": {},
   "source": [
    "This sparse image, being a subspace of the original image, is sufficient to be classified as a **2**."
   ]
  },
  {
   "attachments": {},
   "cell_type": "markdown",
   "metadata": {},
   "source": [
    "#### Now, we will generate the Pertinent-Negative"
   ]
  },
  {
   "cell_type": "code",
   "execution_count": 42,
   "metadata": {},
   "outputs": [
    {
     "data": {
      "text/plain": [
       "<matplotlib.image.AxesImage at 0x7f76885d4d60>"
      ]
     },
     "execution_count": 42,
     "metadata": {},
     "output_type": "execute_result"
    },
    {
     "data": {
      "image/png": "[encoded data removed]",
      "text/plain": [
       "<Figure size 432x288 with 1 Axes>"
      ]
     },
     "metadata": {
      "needs_background": "light"
     },
     "output_type": "display_data"
    }
   ],
   "source": [
    "inputs = x_train[15].reshape(1, 28, 28)\n",
    "# this is how the image looks like\n",
    "plt.imshow(inputs.squeeze(axis=0), cmap=\"gray\", vmin=-0.0, vmax=1.0)"
   ]
  },
  {
   "cell_type": "code",
   "execution_count": 26,
   "metadata": {},
   "outputs": [],
   "source": [
    "loss_class = maxi.loss.TF_CEMLoss\n",
    "optimizer_class = maxi.optimizer.AdaExpGradOptimizer\n",
    "gradient_class = maxi.gradient.TF_Gradient\n",
    "\n",
    "loss_kwargs = {\"mode\": \"PN\", \"gamma\": 0.0, \"K\": 10}\n",
    "optimizer_kwargs = {\"l1\": 0.005, \"l2\": 0.0005, \"channels_first\": False}\n",
    "gradient_kwargs = {}"
   ]
  },
  {
   "cell_type": "code",
   "execution_count": 27,
   "metadata": {},
   "outputs": [],
   "source": [
    "cem = maxi.ExplanationGenerator(\n",
    "    loss=loss_class,\n",
    "    optimizer=optimizer_class,\n",
    "    gradient=gradient_class,\n",
    "    loss_kwargs=loss_kwargs,\n",
    "    optimizer_kwargs=optimizer_kwargs,\n",
    "    gradient_kwargs=gradient_kwargs,\n",
    "    num_iter=1000, # number of optimization iterations\n",
    "    save_freq=250,  # at which iterations the result should be saved\n",
    "    verbose=False,   # print optimization metrics\n",
    ")"
   ]
  },
  {
   "cell_type": "code",
   "execution_count": 28,
   "metadata": {},
   "outputs": [],
   "source": [
    "results, _ = cem.run(image=inputs, inference_call=model)"
   ]
  },
  {
   "cell_type": "code",
   "execution_count": 29,
   "metadata": {},
   "outputs": [
    {
     "name": "stdout",
     "output_type": "stream",
     "text": [
      "Iter: 1 || Prediction: 7 || Prediction Score: [11.139979]\n",
      "Iter: 250 || Prediction: 9 || Prediction Score: [10.135234]\n",
      "Iter: 500 || Prediction: 9 || Prediction Score: [10.521185]\n",
      "Iter: 750 || Prediction: 9 || Prediction Score: [10.653431]\n",
      "Iter: 1000 || Prediction: 9 || Prediction Score: [10.746153]\n"
     ]
    },
    {
     "data": {
      "text/plain": [
       "<matplotlib.image.AxesImage at 0x7f76e01c2f40>"
      ]
     },
     "execution_count": 29,
     "metadata": {},
     "output_type": "execute_result"
    },
    {
     "data": {
      "image/png": "[encoded data removed]",
      "text/plain": [
       "<Figure size 432x288 with 6 Axes>"
      ]
     },
     "metadata": {
      "needs_background": "light"
     },
     "output_type": "display_data"
    }
   ],
   "source": [
    "# visualize the savepoints\n",
    "f, axarr = plt.subplots(1, len(results) + 1)\n",
    "f.tight_layout()\n",
    "for i, (iter_, result) in enumerate(results.items()):\n",
    "    axarr[i].title.set_text(\"Iteration: \" + iter_)\n",
    "    axarr[i].imshow(\n",
    "        result.squeeze(axis=0),\n",
    "        cmap=\"gray\",\n",
    "        vmin=0.0,\n",
    "        vmax=1.0,\n",
    "    )\n",
    "    \n",
    "    pred = model(inputs + result)\n",
    "    print(f\"Iter: {iter_} || Prediction: {np.argmax(pred)} || Prediction Score: {np.max(pred, axis=1)}\")\n",
    "\n",
    "axarr[-1].title.set_text(\"Orig + Perturbation\")\n",
    "axarr[-1].imshow(\n",
    "    (inputs + result).squeeze(axis=0),\n",
    "    cmap=\"gray\",\n",
    "    vmin=0.0,\n",
    "    vmax=1.0,\n",
    ")"
   ]
  },
  {
   "attachments": {},
   "cell_type": "markdown",
   "metadata": {},
   "source": [
    "The first five images show the perturbations generated by our ExplanationGenerator. The last image shows the composition of the original image and PN. When we add the generated PN to the original image, it would be classified as a 9, opposed to a 7."
   ]
  }
 ],
 "metadata": {
  "interpreter": {
   "hash": "65a2827122f59fa3af38b0a26c4bbb172a51e6b0f3177182a7aacb28e18e0590"
  },
  "kernelspec": {
   "display_name": "Python 3 (ipykernel)",
   "language": "python",
   "name": "python3"
  },
  "language_info": {
   "codemirror_mode": {
    "name": "ipython",
    "version": 3
   },
   "file_extension": ".py",
   "mimetype": "text/x-python",
   "name": "python",
   "nbconvert_exporter": "python",
   "pygments_lexer": "ipython3",
   "version": "3.8.10"
  }
 },
 "nbformat": 4,
 "nbformat_minor": 2
}
