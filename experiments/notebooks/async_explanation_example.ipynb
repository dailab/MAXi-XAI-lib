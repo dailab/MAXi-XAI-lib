{
 "cells": [
  {
   "cell_type": "markdown",
   "metadata": {},
   "source": [
    "# Extension: Example Usage for the _AsyncExplanationWrapper_"
   ]
  },
  {
   "cell_type": "markdown",
   "metadata": {},
   "source": [
    "In order to fully leverage a machine's computing power, one needs to consider parallelizing a program. For that purpose, we have implemented the _Asynchronous Explanation Wrapper_. So given a series of images to be explained and a suitable inference model, this wrapper will generate explanations for respective image simultaneously and return a list of tuples containing the savepoints and corresponding meta data of that image. Under the hood, multithreading is applied to enable parallelization.\n",
    "\n",
    "For this example, we will utilize the same MNIST data set and inference model as above. Most of the steps will be similar."
   ]
  },
  {
   "cell_type": "markdown",
   "metadata": {},
   "source": [
    "1. **Import the required libraries**:"
   ]
  },
  {
   "cell_type": "code",
   "execution_count": 1,
   "metadata": {},
   "outputs": [
    {
     "name": "stderr",
     "output_type": "stream",
     "text": [
      "2022-06-02 13:11:34.401941: I tensorflow/core/util/util.cc:169] oneDNN custom operations are on. You may see slightly different numerical results due to floating-point round-off errors from different computation orders. To turn them off, set the environment variable `TF_ENABLE_ONEDNN_OPTS=0`.\n"
     ]
    }
   ],
   "source": [
    "import numpy as np\n",
    "import matplotlib.pyplot as plt\n",
    "import maxi\n",
    "\n",
    "from official_mnist_tf.train_mnist_model import load_mnist, init_model"
   ]
  },
  {
   "cell_type": "markdown",
   "metadata": {},
   "source": [
    "2. **Load the mnist data, model and autoencoder**:"
   ]
  },
  {
   "cell_type": "code",
   "execution_count": null,
   "metadata": {},
   "outputs": [],
   "source": [
    "x_train, y_train, x_test, y_test = load_mnist()\n",
    "model = init_model()\n",
    "model.load_weights(\"../mnist/models/tf/tf\")"
   ]
  },
  {
   "cell_type": "markdown",
   "metadata": {},
   "source": [
    "3. **Chose images to be explained**:"
   ]
  },
  {
   "cell_type": "code",
   "execution_count": 3,
   "metadata": {},
   "outputs": [],
   "source": [
    "idx = [2, 12, 46, 73]\n",
    "\n",
    "inputs = [\n",
    "    np.array([x_train[id]]) for id in idx\n",
    "]\n"
   ]
  },
  {
   "cell_type": "markdown",
   "metadata": {},
   "source": [
    "Note: The images have to be stored in a **list**."
   ]
  },
  {
   "cell_type": "markdown",
   "metadata": {},
   "source": [
    "This is how the images look like:"
   ]
  },
  {
   "cell_type": "code",
   "execution_count": 4,
   "metadata": {},
   "outputs": [
    {
     "data": {
      "image/png": "[encoded data removed]",
      "text/plain": [
       "<Figure size 432x288 with 4 Axes>"
      ]
     },
     "metadata": {
      "needs_background": "light"
     },
     "output_type": "display_data"
    }
   ],
   "source": [
    "f, axarr = plt.subplots(1, len(inputs))\n",
    "f.tight_layout()\n",
    "for i, (id, input) in enumerate(zip(idx, inputs)):\n",
    "    axarr[i].title.set_text(f\"Image ID: {id}\")\n",
    "    axarr[i].imshow(\n",
    "        input.squeeze(axis=0),\n",
    "        cmap=\"gray\",\n",
    "        vmin=0.0,\n",
    "        vmax=1.0,\n",
    "    )"
   ]
  },
  {
   "cell_type": "markdown",
   "metadata": {},
   "source": [
    "4. **Chose your desired component classes for the optimization (loss, optimizer and gradient). Then, specify the configuration of the components**:"
   ]
  },
  {
   "cell_type": "code",
   "execution_count": 5,
   "metadata": {},
   "outputs": [],
   "source": [
    "loss_class = maxi.loss.TF_CEMLoss\n",
    "optimizer_class = maxi.optimizer.AdaExpGradOptimizer\n",
    "gradient_class = maxi.gradient.TF_Gradient\n",
    "\n",
    "loss_kwargs = {\"mode\": \"PP\", \"gamma\": 0.0, \"K\": 2}\n",
    "optimizer_kwargs = {\"l1\": 0.05, \"l2\": 0.005, \"channels_first\": False}\n",
    "gradient_kwargs = {}"
   ]
  },
  {
   "cell_type": "markdown",
   "metadata": {},
   "source": [
    "5. **Instantiate the ```ExplanationGenerator``` with our custom configuration**:"
   ]
  },
  {
   "cell_type": "code",
   "execution_count": 6,
   "metadata": {},
   "outputs": [],
   "source": [
    "cem = maxi.ExplanationGenerator(\n",
    "    loss=loss_class,\n",
    "    optimizer=optimizer_class,\n",
    "    gradient=gradient_class,\n",
    "    loss_kwargs=loss_kwargs,\n",
    "    optimizer_kwargs=optimizer_kwargs,\n",
    "    gradient_kwargs=gradient_kwargs,\n",
    "    num_iter=1000,\n",
    "    save_freq=250,\n",
    ")"
   ]
  },
  {
   "cell_type": "markdown",
   "metadata": {},
   "source": [
    "6. **Wrap the ```ExplanationGenerator``` instance with the ```AsyncExplanationWrapper```**:"
   ]
  },
  {
   "cell_type": "code",
   "execution_count": 7,
   "metadata": {},
   "outputs": [],
   "source": [
    "async_cem = maxi.AsyncExplanationWrapper(cem, n_workers=4)"
   ]
  },
  {
   "cell_type": "markdown",
   "metadata": {},
   "source": [
    "Note: The `n_workers` argument sets the maximum number of workers (threads) to generate explainations.\n"
   ]
  },
  {
   "cell_type": "markdown",
   "metadata": {},
   "source": [
    "7. **Setup the dictionaries that allocate the input images to the inference method and meta data**:\n"
   ]
  },
  {
   "cell_type": "code",
   "execution_count": 8,
   "metadata": {},
   "outputs": [],
   "source": [
    "inference_calls = {img.tobytes(): model for img in inputs}\n",
    "\n",
    "meta_data = {\n",
    "    inputs[i].tobytes(): {\"data_index\": id} \n",
    "    for i, (id, _) in enumerate(zip(idx, inputs))\n",
    "}"
   ]
  },
  {
   "cell_type": "markdown",
   "metadata": {},
   "source": [
    "Note: It is essential to set the image bytes as the key in the dictionaries in order for the wrapper to assign the inference method/ meta information to the right image. The meta data can be optionally parsed but it is recommended as it may pose as an identicator for the results."
   ]
  },
  {
   "cell_type": "markdown",
   "metadata": {},
   "source": [
    "8.  **Start the explanation procedure and retrieve the results**:\n"
   ]
  },
  {
   "cell_type": "code",
   "execution_count": 9,
   "metadata": {},
   "outputs": [
    {
     "name": "stderr",
     "output_type": "stream",
     "text": [
      "/home/tuananhroman/dai/constrastive-explaination-prototype/src/maxi/lib/computation_components/optimizer/ada_exp_grad.py:64: ComplexWarning: Casting complex values to real discards the imaginary part\n",
      "  self.y[:] = 1.0 / self.t * self.x + (1 - 1.0 / self.t) * self.y\n",
      "/home/tuananhroman/.cache/pypoetry/virtualenvs/maxi-ZjBXp4XP-py3.8/lib/python3.8/site-packages/tensorflow/python/framework/constant_op.py:102: ComplexWarning: Casting complex values to real discards the imaginary part\n",
      "  return ops.EagerTensor(value, ctx.device_name, dtype)\n"
     ]
    }
   ],
   "source": [
    "results = async_cem.run(inputs, inference_calls, meta_data)"
   ]
  },
  {
   "cell_type": "markdown",
   "metadata": {},
   "source": [
    "9. **Display the results**:\n"
   ]
  },
  {
   "cell_type": "code",
   "execution_count": 11,
   "metadata": {},
   "outputs": [
    {
     "data": {
      "image/png": "[encoded data removed]",
      "text/plain": [
       "<Figure size 432x288 with 5 Axes>"
      ]
     },
     "metadata": {
      "needs_background": "light"
     },
     "output_type": "display_data"
    },
    {
     "data": {
      "image/png": "[encoded data removed]",
      "text/plain": [
       "<Figure size 432x288 with 5 Axes>"
      ]
     },
     "metadata": {
      "needs_background": "light"
     },
     "output_type": "display_data"
    },
    {
     "data": {
      "image/png": "[encoded data removed]",
      "text/plain": [
       "<Figure size 432x288 with 5 Axes>"
      ]
     },
     "metadata": {
      "needs_background": "light"
     },
     "output_type": "display_data"
    },
    {
     "data": {
      "image/png": "[encoded data removed]",
      "text/plain": [
       "<Figure size 432x288 with 5 Axes>"
      ]
     },
     "metadata": {
      "needs_background": "light"
     },
     "output_type": "display_data"
    }
   ],
   "source": [
    "for savepoints, meta_data in results:\n",
    "    data_idx = meta_data[\"data_index\"]\n",
    "    f, axarr = plt.subplots(1, len(savepoints))\n",
    "\n",
    "    f.tight_layout()\n",
    "    f.suptitle(f\"Data with index: {data_idx}\", fontsize=14, fontweight=\"bold\")\n",
    "    for i, (iter, result) in enumerate(savepoints.items()):\n",
    "        axarr[i].title.set_text(\"Iteration: \" + iter)\n",
    "        axarr[i].imshow(result.squeeze(axis=0), cmap=\"gray\", vmin=0.0, vmax=1.0)"
   ]
  }
 ],
 "metadata": {
  "interpreter": {
   "hash": "65a2827122f59fa3af38b0a26c4bbb172a51e6b0f3177182a7aacb28e18e0590"
  },
  "kernelspec": {
   "display_name": "Python 3 (ipykernel)",
   "language": "python",
   "name": "python3"
  },
  "language_info": {
   "codemirror_mode": {
    "name": "ipython",
    "version": 3
   },
   "file_extension": ".py",
   "mimetype": "text/x-python",
   "name": "python",
   "nbconvert_exporter": "python",
   "pygments_lexer": "ipython3",
   "version": "3.8.10"
  }
 },
 "nbformat": 4,
 "nbformat_minor": 2
}
